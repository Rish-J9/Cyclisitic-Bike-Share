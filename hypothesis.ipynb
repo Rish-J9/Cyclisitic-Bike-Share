{
 "cells": [
  {
   "cell_type": "code",
   "execution_count": null,
   "id": "14404fe0",
   "metadata": {},
   "outputs": [
    {
     "name": "stdout",
     "output_type": "stream",
     "text": [
      "<class 'pandas.core.frame.DataFrame'>\n",
      "RangeIndex: 4714118 entries, 0 to 4714117\n",
      "Data columns (total 14 columns):\n",
      " #   Column              Dtype         \n",
      "---  ------              -----         \n",
      " 0   ride_id             object        \n",
      " 1   rideable_type       object        \n",
      " 2   started_at          datetime64[ns]\n",
      " 3   ended_at            datetime64[ns]\n",
      " 4   start_station_name  object        \n",
      " 5   start_station_id    object        \n",
      " 6   end_station_name    object        \n",
      " 7   end_station_id      object        \n",
      " 8   start_lat           float64       \n",
      " 9   start_lng           float64       \n",
      " 10  end_lat             float64       \n",
      " 11  end_lng             float64       \n",
      " 12  member_casual       object        \n",
      " 13  ride_length_mins    float64       \n",
      "dtypes: datetime64[ns](2), float64(5), object(7)\n",
      "memory usage: 503.5+ MB\n",
      "          start_lat     start_lng       end_lat       end_lng  \\\n",
      "count  4.714116e+06  4.714116e+06  4.714116e+06  4.714116e+06   \n",
      "mean   4.190231e+01 -8.764777e+01  4.190256e+01 -8.764797e+01   \n",
      "std    4.616855e-02  3.034838e-02  4.632060e-02  2.982144e-02   \n",
      "min    4.164000e+01 -8.784000e+01  4.148000e+01 -8.814000e+01   \n",
      "25%    4.188111e+01 -8.766155e+01  4.188132e+01 -8.766260e+01   \n",
      "50%    4.190000e+01 -8.764410e+01  4.190000e+01 -8.764414e+01   \n",
      "75%    4.193000e+01 -8.762952e+01  4.193000e+01 -8.762954e+01   \n",
      "max    4.563503e+01 -7.379648e+01  4.237000e+01 -8.750000e+01   \n",
      "\n",
      "       ride_length_mins  \n",
      "count      4.714115e+06  \n",
      "mean       1.649233e+01  \n",
      "std        2.940938e+01  \n",
      "min        1.000000e+00  \n",
      "25%        6.000000e+00  \n",
      "50%        1.000000e+01  \n",
      "75%        1.900000e+01  \n",
      "max        1.439000e+03  \n"
     ]
    }
   ],
   "source": [
    "import pandas as pd\n",
    "import numpy as np  \n",
    "import matplotlib.pyplot as plt\n",
    "import seaborn as sns\n",
    "import scipy.stats as stats\n",
    "from scipy.stats import zscore\n",
    "from sklearn.model_selection import train_test_split\n",
    "from sklearn.linear_model import LinearRegression\n",
    "\n",
    "\n",
    "df = pd.read_csv(r\"C:\\Users\\risha\\Desktop\\capstone project\\Coursera\\Google analytics\\data from previous 12 months\\cleaned_combined.csv\")\n",
    "df['started_at'] = pd.to_datetime(df['started_at'])\n",
    "df['ended_at'] = pd.to_datetime(df['ended_at'])\n",
    "df['ride_length_mins']= pd.to_numeric(df['ride_length_mins'],errors='coerce')\n",
    "df.info()\n",
    "print(df.describe())"
   ]
  },
  {
   "cell_type": "code",
   "execution_count": 18,
   "id": "edf3d35c",
   "metadata": {},
   "outputs": [
    {
     "name": "stdout",
     "output_type": "stream",
     "text": [
      "Z-Score: 1.96\n",
      "Required Sample Size: 3323\n"
     ]
    }
   ],
   "source": [
    "import numpy as np\n",
    "import scipy.stats as st\n",
    "from scipy.stats import zscore\n",
    "\n",
    "# std_dev = df['ride_length_mins'].std() \n",
    "mean = 16.49233\n",
    "std_dev = 29.40938\n",
    "\n",
    "# Define the parameters\n",
    "confidence_level = 0.95                # siginifucance level of 0.05 for 95% confidence interval and stat power of 0.8 \n",
    "margin_of_error = 1            #usually 5% for 95% confidence interval as per convention but can vary from +-3% to +-8%\n",
    "population_size = 47141118\n",
    "\n",
    "# Calculate the Z-score\n",
    "df['z_score'] = zscore(df['ride_length_mins'])            #or zscore = st.norm.ppf(1 - (1 - confidence_level) / 2) \n",
    "\n",
    "\n",
    "#this formula is only used for nuumerical data. the other one where [z*p*(1-p)]/[moe^2] is used for categorical/binary data\n",
    "sample_size = np.ceil( z_score**2 * std_dev**2/ margin_of_error**2)\n",
    "\n",
    "print(f\"Z-Score: {z_score:.2f}\")\n",
    "print(f\"Required Sample Size: {int(sample_size)}\")"
   ]
  },
  {
   "cell_type": "code",
   "execution_count": 19,
   "id": "ffb39b29",
   "metadata": {},
   "outputs": [
    {
     "name": "stdout",
     "output_type": "stream",
     "text": [
      "Z-Score: 1.96\n",
      "Required Sample Size (Total): 3321\n",
      "Sample Size for Members: 1930\n",
      "Sample Size for Casuals: 1392\n"
     ]
    }
   ],
   "source": [
    "import numpy as np\n",
    "import scipy.stats as st\n",
    "\n",
    "# Step 1: Define parameters\n",
    "std_dev = 29.40938  # Standard deviation in minutes (assumed; calculate from data if possible)\n",
    "confidence_level = 0.95\n",
    "margin_of_error = 1.0  # Adjusted to 1 minute for practicality\n",
    "population_size = 4714118  # Total rides: 4.714M\n",
    "\n",
    "# Step 2: Calculate the Z-score\n",
    "z_score = st.norm.ppf(1 - (1 - confidence_level) / 2)\n",
    "\n",
    "# Step 3: Calculate the sample size without finite population correction\n",
    "numerator = z_score**2 * std_dev**2\n",
    "denominator = margin_of_error**2\n",
    "initial_sample_size = numerator / denominator\n",
    "\n",
    "# Step 4: Apply finite population correction\n",
    "corrected_sample_size = initial_sample_size * population_size / (population_size + initial_sample_size)\n",
    "\n",
    "# Step 5: Round up to the nearest integer\n",
    "sample_size = np.ceil(corrected_sample_size)\n",
    "print(f\"Z-Score: {z_score:.2f}\")\n",
    "print(f\"Required Sample Size (Total): {int(sample_size)}\")\n",
    "\n",
    "# For subgroup analysis\n",
    "sample_size_members = np.ceil(sample_size * 0.5809)\n",
    "sample_size_casuals = np.ceil(sample_size * 0.4191)\n",
    "print(f\"Sample Size for Members: {int(sample_size_members)}\")\n",
    "print(f\"Sample Size for Casuals: {int(sample_size_casuals)}\")"
   ]
  },
  {
   "cell_type": "markdown",
   "id": "d9255521",
   "metadata": {},
   "source": [
    "Hypothesis Testing Metrics\n",
    "\n",
    "Ride Length (ride_length_mins):\n",
    "H0: No difference in mean ride length between members and casuals.\n",
    "Test: Two-sample t-test"
   ]
  },
  {
   "cell_type": "code",
   "execution_count": 20,
   "id": "dcd37d98",
   "metadata": {},
   "outputs": [
    {
     "name": "stdout",
     "output_type": "stream",
     "text": [
      "t-stat: -10.690162161547308, p-value: 7.459468105703486e-26\n"
     ]
    }
   ],
   "source": [
    "members = df.loc[df['member_casual'] == 'member', 'ride_length_mins'].sample(n=1930, random_state=42)\n",
    "casuals = df.loc[df['member_casual'] == 'casual', 'ride_length_mins'].sample(n=1392, random_state=42)\n",
    "t_stat, p_val = st.ttest_ind(members, casuals, equal_var=False)\n",
    "print(f\"t-stat: {t_stat}, p-value: {p_val}\")"
   ]
  },
  {
   "cell_type": "markdown",
   "id": "d9b3b36d",
   "metadata": {},
   "source": [
    "t-statistic: -10.69 indicates a significant difference, with casuals having a higher mean (22.3 min) than members (12.3 min), as the negative value suggests the difference aligns with the expected direction.\n",
    "p-value: 7.46e-26 (< 0.05) strongly rejects the null hypothesis (H0: no difference), confirming a statistically significant difference in ride lengths."
   ]
  }
 ],
 "metadata": {
  "kernelspec": {
   "display_name": "Python 3",
   "language": "python",
   "name": "python3"
  },
  "language_info": {
   "codemirror_mode": {
    "name": "ipython",
    "version": 3
   },
   "file_extension": ".py",
   "mimetype": "text/x-python",
   "name": "python",
   "nbconvert_exporter": "python",
   "pygments_lexer": "ipython3",
   "version": "3.9.7"
  }
 },
 "nbformat": 4,
 "nbformat_minor": 5
}
